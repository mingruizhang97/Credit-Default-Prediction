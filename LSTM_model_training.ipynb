{
  "cells": [
    {
      "cell_type": "code",
      "execution_count": null,
      "metadata": {
        "id": "Q6xWfMyeByDe"
      },
      "outputs": [],
      "source": [
        "import pandas as pd\n",
        "import numpy as np\n",
        "import pickle as pickle\n",
        "import tensorflow as tf\n",
        "from tensorflow.keras.models import Sequential\n",
        "from tensorflow.keras.layers import Dense,Activation,Dropout\n",
        "from tensorflow.keras.layers import LSTM\n",
        "from tensorflow.keras.layers import Embedding\n",
        "from tensorflow.keras.preprocessing import sequence\n",
        "from tensorflow.keras.wrappers.scikit_learn import KerasClassifier\n",
        "from keras.mixed_precision.loss_scale_optimizer import optimizer\n",
        "from sklearn.utils.class_weight import compute_class_weight\n",
        "from sklearn.model_selection import GridSearchCV\n",
        "from tensorflow import keras\n",
        "import matplotlib.pyplot as plt\n",
        "import time"
      ]
    },
    {
      "cell_type": "code",
      "execution_count": null,
      "metadata": {
        "id": "PJ7UmaIhCgkG"
      },
      "outputs": [],
      "source": []
    },
    {
      "cell_type": "code",
      "execution_count": null,
      "metadata": {
        "colab": {
          "base_uri": "https://localhost:8080/",
          "height": 236
        },
        "id": "P3gJw28SCbtW",
        "outputId": "9e90179f-2d29-485a-a6f6-af1db3557b48"
      },
      "outputs": [
        {
          "output_type": "execute_result",
          "data": {
            "text/plain": [
              "       D_43      S_27      D_46       S_3       S_7      D_62      D_48  \\\n",
              "0  0.015299  0.125000  0.525315  0.122883  0.142912  0.008623  0.029541   \n",
              "1  0.015299  0.151876  0.525163  0.123322  0.138300  0.008230  0.025951   \n",
              "2  0.015299  0.157648  0.524603  0.122873  0.131795  0.008893  0.022172   \n",
              "3  0.015299  0.156025  0.524262  0.121764  0.129668  0.008972  0.016176   \n",
              "4  0.015299  0.149802  0.521516  0.121784  0.127735  0.008887  0.043572   \n",
              "\n",
              "       D_61       P_3      D_78  ...  D_64_O  D_64_R  D_64_U  D_68_0.0  \\\n",
              "0  0.006843  0.571499  0.000157  ...       1       0       0         0   \n",
              "1  0.005912  0.567541  0.000989  ...       1       0       0         0   \n",
              "2  0.004770  0.571994  0.000962  ...       1       0       0         0   \n",
              "3  0.004602  0.572860  0.000856  ...       1       0       0         0   \n",
              "4  0.003984  0.560242  0.000329  ...       1       0       0         0   \n",
              "\n",
              "   D_68_1.0  D_68_2.0  D_68_3.0  D_68_4.0  D_68_5.0  D_68_6.0  \n",
              "0         0         0         0         0         0         1  \n",
              "1         0         0         0         0         0         1  \n",
              "2         0         0         0         0         0         1  \n",
              "3         0         0         0         0         0         1  \n",
              "4         0         0         0         0         0         1  \n",
              "\n",
              "[5 rows x 193 columns]"
            ],
            "text/html": [
              "\n",
              "  <div id=\"df-260618f2-2949-4e64-a6b2-a2d88fb80086\">\n",
              "    <div class=\"colab-df-container\">\n",
              "      <div>\n",
              "<style scoped>\n",
              "    .dataframe tbody tr th:only-of-type {\n",
              "        vertical-align: middle;\n",
              "    }\n",
              "\n",
              "    .dataframe tbody tr th {\n",
              "        vertical-align: top;\n",
              "    }\n",
              "\n",
              "    .dataframe thead th {\n",
              "        text-align: right;\n",
              "    }\n",
              "</style>\n",
              "<table border=\"1\" class=\"dataframe\">\n",
              "  <thead>\n",
              "    <tr style=\"text-align: right;\">\n",
              "      <th></th>\n",
              "      <th>D_43</th>\n",
              "      <th>S_27</th>\n",
              "      <th>D_46</th>\n",
              "      <th>S_3</th>\n",
              "      <th>S_7</th>\n",
              "      <th>D_62</th>\n",
              "      <th>D_48</th>\n",
              "      <th>D_61</th>\n",
              "      <th>P_3</th>\n",
              "      <th>D_78</th>\n",
              "      <th>...</th>\n",
              "      <th>D_64_O</th>\n",
              "      <th>D_64_R</th>\n",
              "      <th>D_64_U</th>\n",
              "      <th>D_68_0.0</th>\n",
              "      <th>D_68_1.0</th>\n",
              "      <th>D_68_2.0</th>\n",
              "      <th>D_68_3.0</th>\n",
              "      <th>D_68_4.0</th>\n",
              "      <th>D_68_5.0</th>\n",
              "      <th>D_68_6.0</th>\n",
              "    </tr>\n",
              "  </thead>\n",
              "  <tbody>\n",
              "    <tr>\n",
              "      <th>0</th>\n",
              "      <td>0.015299</td>\n",
              "      <td>0.125000</td>\n",
              "      <td>0.525315</td>\n",
              "      <td>0.122883</td>\n",
              "      <td>0.142912</td>\n",
              "      <td>0.008623</td>\n",
              "      <td>0.029541</td>\n",
              "      <td>0.006843</td>\n",
              "      <td>0.571499</td>\n",
              "      <td>0.000157</td>\n",
              "      <td>...</td>\n",
              "      <td>1</td>\n",
              "      <td>0</td>\n",
              "      <td>0</td>\n",
              "      <td>0</td>\n",
              "      <td>0</td>\n",
              "      <td>0</td>\n",
              "      <td>0</td>\n",
              "      <td>0</td>\n",
              "      <td>0</td>\n",
              "      <td>1</td>\n",
              "    </tr>\n",
              "    <tr>\n",
              "      <th>1</th>\n",
              "      <td>0.015299</td>\n",
              "      <td>0.151876</td>\n",
              "      <td>0.525163</td>\n",
              "      <td>0.123322</td>\n",
              "      <td>0.138300</td>\n",
              "      <td>0.008230</td>\n",
              "      <td>0.025951</td>\n",
              "      <td>0.005912</td>\n",
              "      <td>0.567541</td>\n",
              "      <td>0.000989</td>\n",
              "      <td>...</td>\n",
              "      <td>1</td>\n",
              "      <td>0</td>\n",
              "      <td>0</td>\n",
              "      <td>0</td>\n",
              "      <td>0</td>\n",
              "      <td>0</td>\n",
              "      <td>0</td>\n",
              "      <td>0</td>\n",
              "      <td>0</td>\n",
              "      <td>1</td>\n",
              "    </tr>\n",
              "    <tr>\n",
              "      <th>2</th>\n",
              "      <td>0.015299</td>\n",
              "      <td>0.157648</td>\n",
              "      <td>0.524603</td>\n",
              "      <td>0.122873</td>\n",
              "      <td>0.131795</td>\n",
              "      <td>0.008893</td>\n",
              "      <td>0.022172</td>\n",
              "      <td>0.004770</td>\n",
              "      <td>0.571994</td>\n",
              "      <td>0.000962</td>\n",
              "      <td>...</td>\n",
              "      <td>1</td>\n",
              "      <td>0</td>\n",
              "      <td>0</td>\n",
              "      <td>0</td>\n",
              "      <td>0</td>\n",
              "      <td>0</td>\n",
              "      <td>0</td>\n",
              "      <td>0</td>\n",
              "      <td>0</td>\n",
              "      <td>1</td>\n",
              "    </tr>\n",
              "    <tr>\n",
              "      <th>3</th>\n",
              "      <td>0.015299</td>\n",
              "      <td>0.156025</td>\n",
              "      <td>0.524262</td>\n",
              "      <td>0.121764</td>\n",
              "      <td>0.129668</td>\n",
              "      <td>0.008972</td>\n",
              "      <td>0.016176</td>\n",
              "      <td>0.004602</td>\n",
              "      <td>0.572860</td>\n",
              "      <td>0.000856</td>\n",
              "      <td>...</td>\n",
              "      <td>1</td>\n",
              "      <td>0</td>\n",
              "      <td>0</td>\n",
              "      <td>0</td>\n",
              "      <td>0</td>\n",
              "      <td>0</td>\n",
              "      <td>0</td>\n",
              "      <td>0</td>\n",
              "      <td>0</td>\n",
              "      <td>1</td>\n",
              "    </tr>\n",
              "    <tr>\n",
              "      <th>4</th>\n",
              "      <td>0.015299</td>\n",
              "      <td>0.149802</td>\n",
              "      <td>0.521516</td>\n",
              "      <td>0.121784</td>\n",
              "      <td>0.127735</td>\n",
              "      <td>0.008887</td>\n",
              "      <td>0.043572</td>\n",
              "      <td>0.003984</td>\n",
              "      <td>0.560242</td>\n",
              "      <td>0.000329</td>\n",
              "      <td>...</td>\n",
              "      <td>1</td>\n",
              "      <td>0</td>\n",
              "      <td>0</td>\n",
              "      <td>0</td>\n",
              "      <td>0</td>\n",
              "      <td>0</td>\n",
              "      <td>0</td>\n",
              "      <td>0</td>\n",
              "      <td>0</td>\n",
              "      <td>1</td>\n",
              "    </tr>\n",
              "  </tbody>\n",
              "</table>\n",
              "<p>5 rows × 193 columns</p>\n",
              "</div>\n",
              "      <button class=\"colab-df-convert\" onclick=\"convertToInteractive('df-260618f2-2949-4e64-a6b2-a2d88fb80086')\"\n",
              "              title=\"Convert this dataframe to an interactive table.\"\n",
              "              style=\"display:none;\">\n",
              "        \n",
              "  <svg xmlns=\"http://www.w3.org/2000/svg\" height=\"24px\"viewBox=\"0 0 24 24\"\n",
              "       width=\"24px\">\n",
              "    <path d=\"M0 0h24v24H0V0z\" fill=\"none\"/>\n",
              "    <path d=\"M18.56 5.44l.94 2.06.94-2.06 2.06-.94-2.06-.94-.94-2.06-.94 2.06-2.06.94zm-11 1L8.5 8.5l.94-2.06 2.06-.94-2.06-.94L8.5 2.5l-.94 2.06-2.06.94zm10 10l.94 2.06.94-2.06 2.06-.94-2.06-.94-.94-2.06-.94 2.06-2.06.94z\"/><path d=\"M17.41 7.96l-1.37-1.37c-.4-.4-.92-.59-1.43-.59-.52 0-1.04.2-1.43.59L10.3 9.45l-7.72 7.72c-.78.78-.78 2.05 0 2.83L4 21.41c.39.39.9.59 1.41.59.51 0 1.02-.2 1.41-.59l7.78-7.78 2.81-2.81c.8-.78.8-2.07 0-2.86zM5.41 20L4 18.59l7.72-7.72 1.47 1.35L5.41 20z\"/>\n",
              "  </svg>\n",
              "      </button>\n",
              "      \n",
              "  <style>\n",
              "    .colab-df-container {\n",
              "      display:flex;\n",
              "      flex-wrap:wrap;\n",
              "      gap: 12px;\n",
              "    }\n",
              "\n",
              "    .colab-df-convert {\n",
              "      background-color: #E8F0FE;\n",
              "      border: none;\n",
              "      border-radius: 50%;\n",
              "      cursor: pointer;\n",
              "      display: none;\n",
              "      fill: #1967D2;\n",
              "      height: 32px;\n",
              "      padding: 0 0 0 0;\n",
              "      width: 32px;\n",
              "    }\n",
              "\n",
              "    .colab-df-convert:hover {\n",
              "      background-color: #E2EBFA;\n",
              "      box-shadow: 0px 1px 2px rgba(60, 64, 67, 0.3), 0px 1px 3px 1px rgba(60, 64, 67, 0.15);\n",
              "      fill: #174EA6;\n",
              "    }\n",
              "\n",
              "    [theme=dark] .colab-df-convert {\n",
              "      background-color: #3B4455;\n",
              "      fill: #D2E3FC;\n",
              "    }\n",
              "\n",
              "    [theme=dark] .colab-df-convert:hover {\n",
              "      background-color: #434B5C;\n",
              "      box-shadow: 0px 1px 3px 1px rgba(0, 0, 0, 0.15);\n",
              "      filter: drop-shadow(0px 1px 2px rgba(0, 0, 0, 0.3));\n",
              "      fill: #FFFFFF;\n",
              "    }\n",
              "  </style>\n",
              "\n",
              "      <script>\n",
              "        const buttonEl =\n",
              "          document.querySelector('#df-260618f2-2949-4e64-a6b2-a2d88fb80086 button.colab-df-convert');\n",
              "        buttonEl.style.display =\n",
              "          google.colab.kernel.accessAllowed ? 'block' : 'none';\n",
              "\n",
              "        async function convertToInteractive(key) {\n",
              "          const element = document.querySelector('#df-260618f2-2949-4e64-a6b2-a2d88fb80086');\n",
              "          const dataTable =\n",
              "            await google.colab.kernel.invokeFunction('convertToInteractive',\n",
              "                                                     [key], {});\n",
              "          if (!dataTable) return;\n",
              "\n",
              "          const docLinkHtml = 'Like what you see? Visit the ' +\n",
              "            '<a target=\"_blank\" href=https://colab.research.google.com/notebooks/data_table.ipynb>data table notebook</a>'\n",
              "            + ' to learn more about interactive tables.';\n",
              "          element.innerHTML = '';\n",
              "          dataTable['output_type'] = 'display_data';\n",
              "          await google.colab.output.renderOutput(dataTable, element);\n",
              "          const docLink = document.createElement('div');\n",
              "          docLink.innerHTML = docLinkHtml;\n",
              "          element.appendChild(docLink);\n",
              "        }\n",
              "      </script>\n",
              "    </div>\n",
              "  </div>\n",
              "  "
            ]
          },
          "metadata": {},
          "execution_count": 2
        }
      ],
      "source": [
        "# Read training data\n",
        "train_data_preprocessing = pd.read_pickle(r'/content/drive/MyDrive/train_data_preprocessing.pkl')\n",
        "train_data_preprocessing.head()"
      ]
    },
    {
      "cell_type": "code",
      "execution_count": null,
      "metadata": {
        "id": "lqEBAoZJCpNi"
      },
      "outputs": [],
      "source": [
        "test_data_preprocessing = pd.read_pickle(r'/content/drive/MyDrive/test_data_preprocessing.pkl')\n",
        "test_data_preprocessing.drop(['S_2'], axis=1, inplace=True)"
      ]
    },
    {
      "cell_type": "code",
      "execution_count": null,
      "metadata": {
        "id": "8b0gecM6C-qA"
      },
      "outputs": [],
      "source": [
        "def pad_customer_data(customer_data):\n",
        "    # Check the number of rows for the customer\n",
        "    num_rows = customer_data.shape[0]\n",
        "    if num_rows < 13:\n",
        "        # Calculate the number of rows to add\n",
        "        num_rows_to_add = 13 - num_rows\n",
        "        # Create an array of zeros for the new rows\n",
        "        new_rows = np.zeros((num_rows_to_add, customer_data.shape[1]))\n",
        "        # Concatenate the new rows to the customer data\n",
        "        customer_data = np.concatenate([customer_data, new_rows], axis=0)\n",
        "    return customer_data"
      ]
    },
    {
      "cell_type": "code",
      "execution_count": null,
      "metadata": {
        "id": "nK6O4GukDCH1"
      },
      "outputs": [],
      "source": [
        "def paddle(df):\n",
        "    df['rank'] = df.groupby('customer_ID')['date_diff'].rank(ascending=False)\n",
        "    df.drop(['rank','date_diff','target'],inplace = True,axis = 1)\n",
        "    # Create a list to store the padded sequences for each customer\n",
        "    padded_sequences = []\n",
        "    # Group the data by customer_id\n",
        "    grouped_data = df.groupby('customer_ID')\n",
        "    # Loop through each group\n",
        "    for customer_id, group in grouped_data:\n",
        "        group = group.drop('customer_ID', axis=1)\n",
        "        # Convert the group to a numpy array\n",
        "        customer_data = group.values\n",
        "        # Pad the customer data and append to the list\n",
        "        padded_sequences.append(pad_customer_data(customer_data))\n",
        "    # Convert the list to a numpy array\n",
        "    padded_sequences = np.array(padded_sequences)\n",
        "    return padded_sequences"
      ]
    },
    {
      "cell_type": "code",
      "execution_count": null,
      "metadata": {
        "id": "p4fVoZBVDMoY"
      },
      "outputs": [],
      "source": [
        "y_train = train_data_preprocessing.groupby('customer_ID')['target'].max()\n",
        "y_test = test_data_preprocessing.groupby('customer_ID')['target'].max()\n",
        "train_array = paddle(train_data_preprocessing)\n",
        "test_array = paddle(test_data_preprocessing)"
      ]
    },
    {
      "cell_type": "code",
      "execution_count": null,
      "metadata": {
        "id": "Lj_EjEl9yBCh",
        "colab": {
          "base_uri": "https://localhost:8080/"
        },
        "outputId": "69b4f732-077e-423a-f66f-0299c7ae19ff"
      },
      "outputs": [
        {
          "output_type": "execute_result",
          "data": {
            "text/plain": [
              "0.0    269390\n",
              "1.0     93435\n",
              "Name: target, dtype: int64"
            ]
          },
          "metadata": {},
          "execution_count": 7
        }
      ],
      "source": [
        "y_train.value_counts()"
      ]
    },
    {
      "cell_type": "code",
      "execution_count": null,
      "metadata": {
        "id": "DFqA-eXtzesu"
      },
      "outputs": [],
      "source": [
        "# Compute class weights based on the frequency of each class in the training set\n",
        "class_weights = compute_class_weight('balanced', classes = np.unique(y_train), y = y_train)\n",
        "class_weights = dict(enumerate(class_weights))\n"
      ]
    },
    {
      "cell_type": "code",
      "source": [
        "start_time = time.time()\n",
        "metrics = [\n",
        "    tf.keras.metrics.Recall(),\n",
        "    tf.keras.metrics.AUC()\n",
        "    ]\n",
        "model = Sequential()\n",
        "model.add(LSTM((100),batch_input_shape=(None,13,190)))\n",
        "model.add(Dropout(0.2))\n",
        "model.add(Dense(1, activation='sigmoid'))\n",
        "model.compile(loss='binary_crossentropy', optimizer='adam', metrics=metrics)\n",
        "print(model.summary())\n",
        "history = model.fit(train_array, y_train, epochs=10, batch_size=800, class_weight=class_weights)\n",
        "print(\"--- %s seconds ---\" % (time.time() - start_time))"
      ],
      "metadata": {
        "colab": {
          "base_uri": "https://localhost:8080/"
        },
        "id": "9npEC-p2wtzB",
        "outputId": "e932eee1-009c-4aaf-c19b-3932e9faf524"
      },
      "execution_count": null,
      "outputs": [
        {
          "output_type": "stream",
          "name": "stdout",
          "text": [
            "Model: \"sequential\"\n",
            "_________________________________________________________________\n",
            " Layer (type)                Output Shape              Param #   \n",
            "=================================================================\n",
            " lstm (LSTM)                 (None, 100)               116400    \n",
            "                                                                 \n",
            " dropout (Dropout)           (None, 100)               0         \n",
            "                                                                 \n",
            " dense (Dense)               (None, 1)                 101       \n",
            "                                                                 \n",
            "=================================================================\n",
            "Total params: 116,501\n",
            "Trainable params: 116,501\n",
            "Non-trainable params: 0\n",
            "_________________________________________________________________\n",
            "None\n",
            "Epoch 1/10\n",
            "454/454 [==============================] - 23s 43ms/step - loss: 0.2990 - recall: 0.9047 - auc: 0.9431\n",
            "Epoch 2/10\n",
            "454/454 [==============================] - 19s 41ms/step - loss: 0.2704 - recall: 0.9149 - auc: 0.9536\n",
            "Epoch 3/10\n",
            "454/454 [==============================] - 19s 41ms/step - loss: 0.2650 - recall: 0.9172 - auc: 0.9554\n",
            "Epoch 4/10\n",
            "454/454 [==============================] - 19s 41ms/step - loss: 0.2618 - recall: 0.9187 - auc: 0.9565\n",
            "Epoch 5/10\n",
            "454/454 [==============================] - 19s 41ms/step - loss: 0.2601 - recall: 0.9189 - auc: 0.9570\n",
            "Epoch 6/10\n",
            "454/454 [==============================] - 18s 41ms/step - loss: 0.2584 - recall: 0.9198 - auc: 0.9576\n",
            "Epoch 7/10\n",
            "454/454 [==============================] - 19s 41ms/step - loss: 0.2567 - recall: 0.9204 - auc: 0.9582\n",
            "Epoch 8/10\n",
            "454/454 [==============================] - 19s 41ms/step - loss: 0.2556 - recall: 0.9208 - auc: 0.9585\n",
            "Epoch 9/10\n",
            "454/454 [==============================] - 19s 41ms/step - loss: 0.2540 - recall: 0.9210 - auc: 0.9590\n",
            "Epoch 10/10\n",
            "454/454 [==============================] - 19s 41ms/step - loss: 0.2529 - recall: 0.9217 - auc: 0.9594\n",
            "--- 198.33772921562195 seconds ---\n"
          ]
        }
      ]
    },
    {
      "cell_type": "code",
      "execution_count": null,
      "metadata": {
        "colab": {
          "base_uri": "https://localhost:8080/",
          "height": 843
        },
        "id": "a1e9qWQr2jNc",
        "outputId": "88626ce9-12bd-41bb-d006-cdb82e66a226"
      },
      "outputs": [
        {
          "output_type": "display_data",
          "data": {
            "text/plain": [
              "<Figure size 640x480 with 1 Axes>"
            ],
            "image/png": "[encoded data removed]"
          },
          "metadata": {}
        },
        {
          "output_type": "display_data",
          "data": {
            "text/plain": [
              "<Figure size 640x480 with 1 Axes>"
            ],
            "image/png": "[encoded data removed]"
          },
          "metadata": {}
        }
      ],
      "source": [
        "# Plot the training and validation loss\n",
        "plt.plot(history.history['loss'], label='Training Loss')\n",
        "plt.legend()\n",
        "plt.show()\n",
        "\n",
        "# Plot the training and validation metrics\n",
        "plt.plot(history.history['recall'], label='Training Recall')\n",
        "plt.plot(history.history['auc'], label='Training AUC')\n",
        "plt.legend()\n",
        "plt.show()"
      ]
    },
    {
      "cell_type": "code",
      "execution_count": null,
      "metadata": {
        "colab": {
          "base_uri": "https://localhost:8080/"
        },
        "id": "rwmf1ImeGW0L",
        "outputId": "b389bfa4-6f31-443f-f209-6b8d5b2767be"
      },
      "outputs": [
        {
          "output_type": "stream",
          "name": "stdout",
          "text": [
            "0.2712981104850769\n",
            "0.9271196722984314\n",
            "0.9580916166305542\n"
          ]
        }
      ],
      "source": [
        "# Final evaluation of the model\n",
        "scores = model.evaluate(test_array, y_test, verbose=0)\n",
        "print(scores[0])\n",
        "print(scores[1])\n",
        "print(scores[2])"
      ]
    },
    {
      "cell_type": "code",
      "execution_count": null,
      "metadata": {
        "colab": {
          "base_uri": "https://localhost:8080/"
        },
        "id": "ZoOywbw8YRxr",
        "outputId": "076c941c-06da-41b0-d34c-a590cb0f7735"
      },
      "outputs": [
        {
          "name": "stdout",
          "output_type": "stream",
          "text": [
            "0.958041787147522\n"
          ]
        }
      ],
      "source": [
        "scores = model.evaluate(train_array, y_train, verbose=0)\n",
        "print(scores[1])"
      ]
    },
    {
      "cell_type": "code",
      "execution_count": null,
      "metadata": {
        "colab": {
          "base_uri": "https://localhost:8080/"
        },
        "id": "4xXLrVKwIC1l",
        "outputId": "617316eb-8699-44cc-9f83-a4be18ace699"
      },
      "outputs": [
        {
          "data": {
            "text/plain": [
              "(90706, 13, 191)"
            ]
          },
          "execution_count": 17,
          "metadata": {},
          "output_type": "execute_result"
        }
      ],
      "source": [
        "test_array.shape"
      ]
    },
    {
      "cell_type": "code",
      "execution_count": null,
      "metadata": {
        "colab": {
          "base_uri": "https://localhost:8080/"
        },
        "id": "YHQ-8q7yIqOA",
        "outputId": "fba49b4c-0a22-4092-b1bc-8224513ce586"
      },
      "outputs": [
        {
          "data": {
            "text/plain": [
              "(4237534, 191)"
            ]
          },
          "execution_count": 18,
          "metadata": {},
          "output_type": "execute_result"
        }
      ],
      "source": [
        "train_data_preprocessing.shape"
      ]
    },
    {
      "cell_type": "code",
      "execution_count": null,
      "metadata": {
        "colab": {
          "base_uri": "https://localhost:8080/"
        },
        "id": "sOHQhOWjIywF",
        "outputId": "90aac46d-127d-4b80-bfff-805a4bcd6233"
      },
      "outputs": [
        {
          "data": {
            "text/plain": [
              "(1057941, 192)"
            ]
          },
          "execution_count": 20,
          "metadata": {},
          "output_type": "execute_result"
        }
      ],
      "source": [
        "test_data_preprocessing.shape"
      ]
    },
    {
      "cell_type": "code",
      "execution_count": null,
      "metadata": {
        "colab": {
          "base_uri": "https://localhost:8080/"
        },
        "id": "KZgo36HBI1kh",
        "outputId": "fa5909a0-ba86-4375-ec54-283cf3c4b117"
      },
      "outputs": [
        {
          "output_type": "stream",
          "name": "stdout",
          "text": [
            "2835/2835 [==============================] - 13s 4ms/step\n"
          ]
        }
      ],
      "source": [
        "y_pred = model.predict(test_array)"
      ]
    },
    {
      "cell_type": "code",
      "execution_count": null,
      "metadata": {
        "colab": {
          "base_uri": "https://localhost:8080/",
          "height": 447
        },
        "id": "Hnzb2oKTSsvg",
        "outputId": "d29f8cb3-11dc-4f1a-bd34-1afb60119128"
      },
      "outputs": [
        {
          "output_type": "execute_result",
          "data": {
            "text/plain": [
              "<Axes: >"
            ]
          },
          "metadata": {},
          "execution_count": 12
        },
        {
          "output_type": "display_data",
          "data": {
            "text/plain": [
              "<Figure size 640x480 with 2 Axes>"
            ],
            "image/png": "[encoded data removed]"
          },
          "metadata": {}
        }
      ],
      "source": [
        "from sklearn.metrics import confusion_matrix\n",
        "import seaborn as sns\n",
        "res_pred = np.where(y_pred < 0.5, 0, 1)\n",
        "sns.heatmap(confusion_matrix(y_test,res_pred),annot=True,fmt='d', cmap='Blues')"
      ]
    }
  ],
  "metadata": {
    "accelerator": "TPU",
    "colab": {
      "machine_shape": "hm",
      "provenance": [],
      "gpuClass": "premium"
    },
    "gpuClass": "premium",
    "kernelspec": {
      "display_name": "Python 3",
      "name": "python3"
    },
    "language_info": {
      "name": "python"
    }
  },
  "nbformat": 4,
  "nbformat_minor": 0
}